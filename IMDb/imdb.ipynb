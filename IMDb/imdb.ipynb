{
 "cells": [
  {
   "cell_type": "markdown",
   "source": "# IMDb\n\n<img src=\"https://upload.wikimedia.org/wikipedia/commons/thumb/6/69/IMDB_Logo_2016.svg/640px-IMDB_Logo_2016.svg.png?1623833316814\">\n\n## Descriptions\n\n    - IMDb (an acronym for Internet Movie Database) is an online database of information related to films, television programs, home videos, video games, and streaming content online – including cast, production crew and personal biographies, plot summaries, trivia, ratings, and fan and critical reviews. An additional fan feature, message boards, was abandoned in February 2017. Originally a fan-operated website, the database is now owned and operated by IMDb.com, Inc., a subsidiary of Amazon.\n\n    - As of December 2020, IMDb has approximately 7.5 million titles (including episodes) and 10.4 million personalities in its database, as well as 83 million registered users.\n\n    - IMDb began as a movie database on the Usenet group \"rec.arts.movies\" in 1990 and moved to the web in 1993.\n\n    - Information ref: https://www.wikiwand.com/en/IMDb\n\n    - Now, we're interested in what's going on and finding insight by given data from \"https://relational.fit.cvut.cz/dataset/IMDb\"\n\n## Objective\n- Building movies recommendation based on personal information from user. \n\n**NOTED that we haven't currently planned to build model yet\n`\nIn this project, we only prepare data for modeling**\n\n## Proceduces for this project\n\n    1 Business Understanding\n    2 Data Preparation\n        - Collecting\n        - Cleaning\n    3 Data Understanding\n    4 Describing Data\n        - EDA\n\n## Additional Libraries\n- pymysql\n- pandas_profiling",
   "metadata": {
    "cell_id": "00000-f4937594-972b-48cc-b02e-84d55e7812b6",
    "deepnote_cell_type": "markdown"
   }
  },
  {
   "cell_type": "code",
   "metadata": {
    "cell_id": "00001-0fde2bb6-586b-4b52-9de7-c3be974a4d5f",
    "deepnote_cell_type": "code"
   },
   "source": "# ! pip install pymysql",
   "execution_count": 0,
   "outputs": []
  },
  {
   "cell_type": "code",
   "metadata": {
    "cell_id": "00002-4ea39764-1562-418b-b9ff-e95db44ebe13",
    "deepnote_cell_type": "code"
   },
   "source": "# ! pip install https://github.com/pandas-profiling/pandas-profiling/archive/master.zip ",
   "execution_count": 0,
   "outputs": []
  },
  {
   "cell_type": "markdown",
   "source": "## Entity Relational Diagram\n\n    A Diagram display the relations between databases is shown here\n\n<img src=\"https://relational.fit.cvut.cz/assets/img/datasets-generated/imdb_ijs.svg\">\n\n<img src=\"https://media1.tenor.com/images/871791f2c3b6a691428d5eb69001647e/tenor.gif?itemid=16088453\" width=\"350\" height=\"350\">",
   "metadata": {
    "cell_id": "00003-e1834bca-fef1-4026-a808-ae95df7166ac",
    "deepnote_cell_type": "markdown"
   }
  },
  {
   "cell_type": "markdown",
   "source": "## Data Preparation section",
   "metadata": {
    "cell_id": "00004-11a444ba-3312-49e3-bbaa-e7afb79407b3",
    "deepnote_cell_type": "markdown"
   }
  },
  {
   "cell_type": "markdown",
   "source": "### Collecting data\n\n- Retrieve tables from given database",
   "metadata": {
    "cell_id": "00005-5d14b2b3-0c0a-4b1d-865d-ff1d53628e7a",
    "deepnote_cell_type": "markdown"
   }
  },
  {
   "cell_type": "code",
   "metadata": {
    "cell_id": "00006-e5b7dcd7-5155-4de7-ab8e-fa5961574e0b",
    "deepnote_cell_type": "code"
   },
   "source": "# Inspects all all tables, are still available, from database\n\nimport pymysql.cursors\n\nhostname =  \"relational.fit.cvut.cz\"\nport = 3306\n\nusername = \"guest\"\npassword = \"relational\"\ndb = \"imdb_ijs\"\n\nconnections = pymysql.connect(\n    host=hostname,\n    port=port,\n    user=username,\n    password=password,\n    db=db,\n    charset=\"utf8mb4\",\n    cursorclass=pymysql.cursors.DictCursor\n)\n\ncursor = connections.cursor()\ncursor.execute(\"show tables;\")\ntables = cursor.fetchall()\ncursor.close()\n\nfor ele in tables:\n    print(ele)",
   "execution_count": 1,
   "outputs": [
    {
     "name": "stdout",
     "text": "{'Tables_in_imdb_ijs': 'actors'}\n{'Tables_in_imdb_ijs': 'directors'}\n{'Tables_in_imdb_ijs': 'directors_genres'}\n{'Tables_in_imdb_ijs': 'movies'}\n{'Tables_in_imdb_ijs': 'movies_directors'}\n{'Tables_in_imdb_ijs': 'movies_genres'}\n{'Tables_in_imdb_ijs': 'roles'}\n",
     "output_type": "stream"
    }
   ]
  },
  {
   "cell_type": "code",
   "metadata": {
    "cell_id": "00007-14e22f28-6be0-4f6d-87c9-b205f98eebb2",
    "deepnote_cell_type": "code"
   },
   "source": "import pandas as pd",
   "execution_count": 2,
   "outputs": []
  },
  {
   "cell_type": "code",
   "metadata": {
    "cell_id": "00008-510d02f4-b64d-49ea-a0e8-2df0436d2407",
    "deepnote_cell_type": "code"
   },
   "source": "# Import(1)\n# Extracts tables from database to pandas dataframe\n\ndef extract_dataframe(table_name: str):\n    with connections.cursor() as cursor:\n        # select all from given table name without any conditions\n        select = \"SELECT * FROM \" + table_name\n        cursor.execute(select)\n        result = cursor.fetchall()\n        return pd.DataFrame(result)\n\nraw_actors = extract_dataframe(\"actors\")\nraw_directors = extract_dataframe(\"directors\")\nraw_directorsGen = extract_dataframe(\"directors_genres\")\nraw_movies = extract_dataframe(\"movies\")\nraw_moviesDirec = extract_dataframe(\"movies_directors\")\nraw_moviesGen = extract_dataframe(\"movies_genres\")\nraw_roles = extract_dataframe(\"roles\")",
   "execution_count": 3,
   "outputs": []
  },
  {
   "cell_type": "code",
   "metadata": {
    "cell_id": "00009-6be4cd51-089c-46d1-a840-c962969c787c",
    "deepnote_cell_type": "code"
   },
   "source": "# Import (2)\n# you can change paths later\n\nraw_actors = pd.read_csv(\"actors.csv\")\nraw_directors = pd.read_csv(\"directors.csv\")\nraw_directorsGen = pd.read_csv(\"directors_genres.csv\")\nraw_movies = pd.read_csv(\"movies.csv\")\nraw_moviesDirec = pd.read_csv(\"movies_directors.csv\")\nraw_moviesGen = pd.read_csv(\"movies_genres.csv\")\nraw_roles = pd.read_csv(\"roles.csv\")",
   "execution_count": 0,
   "outputs": []
  },
  {
   "cell_type": "code",
   "metadata": {
    "cell_id": "00010-042f6fc6-c766-42b5-8099-a767044b6aed",
    "deepnote_cell_type": "code"
   },
   "source": "# Assigning name\n\ndfs_name = {\n    \"Actors\" : raw_actors,\n    \"Directors\" : raw_directors,\n    \"Directors-genres\" : raw_directorsGen,\n    \"Movies\" : raw_movies,\n    \"Movies-directors\" : raw_moviesDirec,\n    \"Movies-genres\" : raw_moviesGen,\n    \"Roles\" : raw_roles \n}",
   "execution_count": 4,
   "outputs": []
  },
  {
   "cell_type": "code",
   "metadata": {
    "cell_id": "00011-04ea28cc-e61e-417d-ba99-468c9d3beb6f",
    "deepnote_cell_type": "code"
   },
   "source": "# Exporting raw tables\n\nraw_actors.to_csv(\"actors.csv\")\nraw_directors.to_csv(\"directors.csv\")\nraw_directorsGen.to_csv(\"directors_genres.csv\")\nraw_movies.to_csv(\"movies.csv\")\nraw_moviesDirec.to_csv(\"movies_directors.csv\")\nraw_moviesGen.to_csv(\"movies_genres.csv\")\nraw_roles.to_csv(\"roles.csv\")",
   "execution_count": 5,
   "outputs": []
  },
  {
   "cell_type": "code",
   "metadata": {
    "cell_id": "00012-45129017-afd3-4f27-803c-6dbfa2a89ab2",
    "deepnote_cell_type": "code"
   },
   "source": "# Print the first few row of each\n\nfor name_df, value in dfs_name.items():\n    print(name_df)\n    print(value.head())\n    print()",
   "execution_count": 0,
   "outputs": []
  },
  {
   "cell_type": "markdown",
   "source": "### Data Cleaning\n    1 Validate each columns are in the right type\n    2 Remove missing values\n    3 Adjust values error (the value that makes no sense)\n    4 Remove duplicates rows\n    5 Standardize data (if possible)\n\n<img src=\"https://media1.tenor.com/images/5237c33065a69a734309974a8b7f029b/tenor.gif?itemid=15522288\" width=\"200\" height=\"200\">",
   "metadata": {
    "cell_id": "00013-c5cb1986-a3d5-49d6-a074-f595e0e5eedf",
    "deepnote_cell_type": "markdown"
   }
  },
  {
   "cell_type": "markdown",
   "source": "#### Correcting data types & Finding missing values\n- Inspect all data type in each columns that has been stored correctly based on **Data Dictionary**\n- Indentify the number of missing values",
   "metadata": {
    "cell_id": "00014-97ff70cc-30c6-4648-ac2e-435ca5241b36",
    "deepnote_cell_type": "markdown"
   }
  },
  {
   "cell_type": "code",
   "metadata": {
    "cell_id": "00015-42416f17-4f68-4c39-bd86-f3e62504bb35",
    "deepnote_cell_type": "code"
   },
   "source": "# Looking basic information of each tables\n# The basic information can tell us the type of each columns, null object\n\nfor name_df, df in dfs_name.items():\n    print(name_df)\n    print(df.info())\n    print()",
   "execution_count": 0,
   "outputs": []
  },
  {
   "cell_type": "markdown",
   "source": "##### Report\n\n**Correcting data types**\n\n- We inspected that **all columns are in the right type**\n- e.g. all id columns are in integer type, rank is in float type, names or genres are in object typr\n\n**Missing values**\n\n- There are massively null valus in Movies dataframe (321024)",
   "metadata": {
    "cell_id": "00016-dfdfd2a5-b7c4-4a6c-bca4-6cb3e930d77f",
    "deepnote_cell_type": "markdown"
   }
  },
  {
   "cell_type": "markdown",
   "source": "#### Remove missing values\n\n- Remove on [ movies table ]",
   "metadata": {
    "cell_id": "00017-e163006d-f3ed-43ca-b627-99268fc007e7",
    "deepnote_cell_type": "markdown"
   }
  },
  {
   "cell_type": "code",
   "metadata": {
    "cell_id": "00018-d5667d37-6a2d-4d6d-965c-829131ba5b77",
    "deepnote_cell_type": "code"
   },
   "source": "# Remove row that contains missing value\n\ndroppedNull_movies = raw_movies.dropna()\n\ndroppedNull_movies =  droppedNull_movies.reset_index(drop=True)\n\n# Update dictionary\ndfs_name[\"Movies\"] = droppedNull_movies\n\ndroppedNull_movies.head(10)",
   "execution_count": 0,
   "outputs": []
  },
  {
   "cell_type": "code",
   "metadata": {
    "cell_id": "00019-4fe13c60-d253-4170-a6ce-d9923e17d9c0",
    "deepnote_cell_type": "code"
   },
   "source": "# check all id column of each table are unique (no duplicate id)\n\nids_col = [\"id\", \"director_id\", \"movie_id\", \"actor_id\"]\nfor name, df in dfs_name.items():\n    # find id column\n    for id_col in df.columns:\n        if id_col in ids_col:\n            print(name, \"on column\", id_col)\n            print(\"ID unique:\",df[id_col].duplicated().any())\n            print()\n            break",
   "execution_count": 0,
   "outputs": []
  },
  {
   "cell_type": "markdown",
   "source": "##### Report",
   "metadata": {
    "cell_id": "00020-3c9c7901-4898-4711-ad65-630a5a634097",
    "deepnote_cell_type": "markdown"
   }
  },
  {
   "cell_type": "markdown",
   "source": "#### Adjust values error\n- Check and change (if neccessary) the values whether are in the right format",
   "metadata": {
    "cell_id": "00021-bb3c0f5e-0741-4411-b7fc-37451a8532f7",
    "deepnote_cell_type": "markdown"
   }
  },
  {
   "cell_type": "code",
   "metadata": {
    "cell_id": "00022-c34eb170-5377-482c-84fe-24514a8f04d9",
    "deepnote_cell_type": "code"
   },
   "source": "# basic statistics\n# Continue to check all dataframe\n\ndroppedNull_movies.describe()",
   "execution_count": 0,
   "outputs": []
  },
  {
   "cell_type": "markdown",
   "source": "##### Result\n\n**Movies dataframe**\n\n- We ignore id column (already checked id column)\n- Year initially collected since 1890 to 2004 -> (make sense)\n- Rank (rating) min is 1 through 9.9 (max) -> (make sense)",
   "metadata": {
    "cell_id": "00023-ae2a64e2-b8db-429f-b38a-fd4ab0e6717a",
    "deepnote_cell_type": "markdown"
   }
  },
  {
   "cell_type": "markdown",
   "source": "<a style='text-decoration:none;line-height:16px;display:flex;color:#5B5B62;padding:10px;justify-content:end;' href='https://deepnote.com?utm_source=created-in-deepnote-cell&projectId=056bc3c2-85b4-467d-bb7f-c23e60e46336' target=\"_blank\">\n<img alt='Created in deepnote.com' style='display:inline;max-height:16px;margin:0px;margin-right:7.5px;' src='data:image/svg+xml;base64,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' > </img>\nCreated in <span style='font-weight:600;margin-left:4px;'>Deepnote</span></a>",
   "metadata": {
    "tags": [],
    "created_in_deepnote_cell": true,
    "deepnote_cell_type": "markdown"
   }
  }
 ],
 "nbformat": 4,
 "nbformat_minor": 0,
 "metadata": {
  "deepnote_notebook_id": "0cfde65e-ed55-4881-9a49-5cbffb70fa60",
  "deepnote": {},
  "deepnote_execution_queue": []
 }
}
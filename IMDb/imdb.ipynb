{
  "cells":[
    {
      "cell_type":"markdown",
      "source":[
        "# IMDb\n",
        "\n",
        "<img src=\"https:\/\/upload.wikimedia.org\/wikipedia\/commons\/thumb\/6\/69\/IMDB_Logo_2016.svg\/640px-IMDB_Logo_2016.svg.png?1623833316814\">\n",
        "\n",
        "## Descriptions\n",
        "\n",
        "    - IMDb (an acronym for Internet Movie Database) is an online database of information related to films, television programs, home videos, video games, and streaming content online – including cast, production crew and personal biographies, plot summaries, trivia, ratings, and fan and critical reviews. An additional fan feature, message boards, was abandoned in February 2017. Originally a fan-operated website, the database is now owned and operated by IMDb.com, Inc., a subsidiary of Amazon.\n",
        "\n",
        "    - As of December 2020, IMDb has approximately 7.5 million titles (including episodes) and 10.4 million personalities in its database, as well as 83 million registered users.\n",
        "\n",
        "    - IMDb began as a movie database on the Usenet group \"rec.arts.movies\" in 1990 and moved to the web in 1993.\n",
        "\n",
        "    - Information ref: https:\/\/www.wikiwand.com\/en\/IMDb\n",
        "\n",
        "    - Now, we're interested in what's going on and finding insight by given data from \"https:\/\/relational.fit.cvut.cz\/dataset\/IMDb\"\n",
        "\n",
        "## Objective\n",
        "- Building movies recommendation based on personal information from user. \n",
        "\n",
        "**NOTED that we haven't currently planned to build model yet\n",
        "`\n",
        "In this project, we only prepare data for modeling**\n",
        "\n",
        "## Proceduces for this project\n",
        "\n",
        "    1 Business Understanding\n",
        "    2 Data Preparation\n",
        "        - Collecting\n",
        "        - Cleaning\n",
        "    3 Data Understanding\n",
        "    4 Describing Data\n",
        "        - EDA\n",
        "\n",
        "## Additional Libraries\n",
        "- pymysql\n",
        "- pandas_profiling"
      ],
      "attachments":{
        
      },
      "metadata":{
        
      }
    },
    {
      "cell_type":"code",
      "source":[
        "# ! pip install pymysql"
      ],
      "execution_count":0,
      "outputs":[
        
      ],
      "metadata":{
        
      }
    },
    {
      "cell_type":"code",
      "source":[
        "# ! pip install https:\/\/github.com\/pandas-profiling\/pandas-profiling\/archive\/master.zip "
      ],
      "execution_count":0,
      "outputs":[
        
      ],
      "metadata":{
        
      }
    },
    {
      "cell_type":"markdown",
      "source":[
        "## Entity Relational Diagram\n",
        "\n",
        "    A Diagram display the relations between databases is shown here\n",
        "\n",
        "<img src=\"https:\/\/relational.fit.cvut.cz\/assets\/img\/datasets-generated\/imdb_ijs.svg\">\n",
        "\n",
        "<img src=\"https:\/\/media1.tenor.com\/images\/871791f2c3b6a691428d5eb69001647e\/tenor.gif?itemid=16088453\" width=\"350\" height=\"350\">"
      ],
      "attachments":{
        
      },
      "metadata":{
        
      }
    },
    {
      "cell_type":"markdown",
      "source":[
        "## Data Preparation section"
      ],
      "attachments":{
        
      },
      "metadata":{
        
      }
    },
    {
      "cell_type":"markdown",
      "source":[
        "### Collecting data\n",
        "\n",
        "- Retrieve tables from given database"
      ],
      "attachments":{
        
      },
      "metadata":{
        
      }
    },
    {
      "cell_type":"code",
      "source":[
        "# Inspects all all tables, are still available, from database\n",
        "\n",
        "import pymysql.cursors\n",
        "\n",
        "hostname =  \"relational.fit.cvut.cz\"\n",
        "port = 3306\n",
        "username = \"guest\"\n",
        "password = \"relational\"\n",
        "db = \"imdb_ijs\"\n",
        "\n",
        "connections = pymysql.connect(\n",
        "    host=hostname,\n",
        "    port=port,\n",
        "    user=username,\n",
        "    password=password,\n",
        "    db=db,\n",
        "    charset=\"utf8mb4\",\n",
        "    cursorclass=pymysql.cursors.DictCursor\n",
        ")\n",
        "\n",
        "cursor = connections.cursor()\n",
        "cursor.execute(\"show tables;\")\n",
        "tables = cursor.fetchall()\n",
        "cursor.close()\n",
        "\n",
        "for ele in tables:\n",
        "    print(ele)"
      ],
      "execution_count":1,
      "outputs":[
        {
          "name":"stdout",
          "text":[
            "{'Tables_in_imdb_ijs': 'actors'}\n",
            "{'Tables_in_imdb_ijs': 'directors'}\n",
            "{'Tables_in_imdb_ijs': 'directors_genres'}\n",
            "{'Tables_in_imdb_ijs': 'movies'}\n",
            "{'Tables_in_imdb_ijs': 'movies_directors'}\n",
            "{'Tables_in_imdb_ijs': 'movies_genres'}\n",
            "{'Tables_in_imdb_ijs': 'roles'}\n"
          ],
          "output_type":"stream"
        }
      ],
      "metadata":{
        
      }
    },
    {
      "cell_type":"code",
      "source":[
        "# Import(1)\n",
        "# Extracts tables from database to pandas dataframe\n",
        "\n",
        "import pandas as pd\n",
        "\n",
        "def extract_dataframe(table_name: str):\n",
        "    with connections.cursor() as cursor:\n",
        "        # select all from given table name without any conditions\n",
        "        select = \"SELECT * FROM \" + table_name\n",
        "        cursor.execute(select)\n",
        "        result = cursor.fetchall()\n",
        "        return pd.DataFrame(result)\n",
        "\n",
        "raw_actors = extract_dataframe(\"actors\")\n",
        "raw_directors = extract_dataframe(\"directors\")\n",
        "raw_directorsGen = extract_dataframe(\"directors_genres\")\n",
        "raw_movies = extract_dataframe(\"movies\")\n",
        "raw_moviesDirec = extract_dataframe(\"movies_directors\")\n",
        "raw_moviesGen = extract_dataframe(\"movies_genres\")\n",
        "raw_roles = extract_dataframe(\"roles\")\n",
        "\n",
        "# Assigning name\n",
        "dfs_name = {\n",
        "    \"Actors\" : raw_actors,\n",
        "    \"Directors\" : raw_directors,\n",
        "    \"Directors-genres\" : raw_directorsGen,\n",
        "    \"Movies\" : raw_movies,\n",
        "    \"Movies-directors\" : raw_moviesDirec,\n",
        "    \"Movies-genres\" : raw_moviesGen,\n",
        "    \"Roles\" : raw_roles \n",
        "}\n",
        "\n",
        "list_raw = [\n",
        "    raw_actors,\n",
        "    raw_directors,\n",
        "    raw_directorsGen,\n",
        "    raw_movies,\n",
        "    raw_moviesDirec,\n",
        "    raw_moviesGen,\n",
        "    raw_roles\n",
        "]"
      ],
      "execution_count":2,
      "outputs":[
        
      ],
      "metadata":{
        
      }
    },
    {
      "cell_type":"code",
      "source":[
        "# Exporting raw tables\n",
        "\n",
        "# raw_actors.to_csv(\"actors.csv\")\n",
        "# raw_directors.to_csv(\"directors.csv\")\n",
        "# raw_directorsGen.to_csv(\"directors_genres.csv\")\n",
        "# raw_movies.to_csv(\"movies.csv\")\n",
        "# raw_moviesDirec.to_csv(\"movies_directors.csv\")\n",
        "# raw_moviesGen.to_csv(\"movies_genres.csv\")\n",
        "# raw_roles.to_csv(\"roles.csv\")"
      ],
      "execution_count":0,
      "outputs":[
        
      ],
      "metadata":{
        
      }
    },
    {
      "cell_type":"code",
      "source":[
        "# Print the first few row of each\n",
        "\n",
        "for name_df, value in dfs_name.items():\n",
        "    print(name_df)\n",
        "    print(value.head())\n",
        "    print()"
      ],
      "execution_count":12,
      "outputs":[
        {
          "name":"stdout",
          "text":[
            "Actors\n",
            "   id first_name           last_name gender\n",
            "0   2    Michael  'babeepower' Viera      M\n",
            "1   3       Eloy         'Chincheta'      M\n",
            "2   4   Dieguito         'El Cigala'      M\n",
            "3   5    Antonio    'El de Chipiona'      M\n",
            "4   6       José        'El Francés'      M\n",
            "\n",
            "Directors\n",
            "   id first_name    last_name\n",
            "0   1       Todd            1\n",
            "1   2        Les  12 Poissons\n",
            "2   3    Lejaren     a'Hiller\n",
            "3   4       Nian            A\n",
            "4   5   Khairiya    A-Mansour\n",
            "\n",
            "Directors-genres\n",
            "   director_id        genre  prob\n",
            "0            2        Short   1.0\n",
            "1            3        Drama   1.0\n",
            "2            5  Documentary   1.0\n",
            "3            6        Drama   1.0\n",
            "4            6        Short   1.0\n",
            "\n",
            "Movies\n",
            "   id               name  year  rank\n",
            "0   2                  $  1971   6.4\n",
            "1   6    $1,000,000 Duck  1971   5.0\n",
            "2  11  $1000 a Touchdown  1939   6.7\n",
            "3  15                $30  1999   7.5\n",
            "4  18            $40,000  1996   9.6\n",
            "\n",
            "Movies-directors\n",
            "   director_id  movie_id\n",
            "0            1    378879\n",
            "1            2    281325\n",
            "2            3     30621\n",
            "3            3    304743\n",
            "4            4     60570\n",
            "\n",
            "Movies-genres\n",
            "   movie_id        genre\n",
            "0         1  Documentary\n",
            "1         1        Short\n",
            "2         2       Comedy\n",
            "3         2        Crime\n",
            "4         5      Western\n",
            "\n",
            "Roles\n",
            "   actor_id  movie_id              role\n",
            "0         2    280088            Stevie\n",
            "1         2    396232  Various\/lyricist\n",
            "2         3    376687          Gitano 1\n",
            "3         4    336265         El Cigala\n",
            "4         5    135644           Himself\n",
            "\n"
          ],
          "output_type":"stream"
        }
      ],
      "metadata":{
        
      }
    },
    {
      "cell_type":"markdown",
      "source":[
        "### Data Cleaning\n",
        "    1 Validate each columns are in the right type\n",
        "    2 Remove missing values\n",
        "    3 Adjust values error (the value that makes no sense)\n",
        "    4 Remove duplicates rows\n",
        "    5 Standardize data (if possible)\n",
        "\n",
        "<img src=\"https:\/\/media1.tenor.com\/images\/5237c33065a69a734309974a8b7f029b\/tenor.gif?itemid=15522288\" width=\"200\" height=\"200\">"
      ],
      "attachments":{
        
      },
      "metadata":{
        
      }
    },
    {
      "cell_type":"markdown",
      "source":[
        "#### Correcting data types & Finding missing values\n",
        "- Inspect all data type in each columns that has been stored correctly based on **Data Dictionary**\n",
        "- Indentify the number of missing values"
      ],
      "attachments":{
        
      },
      "metadata":{
        
      }
    },
    {
      "cell_type":"code",
      "source":[
        "# Looking basic information of each tables\n",
        "# The basic information can tell us the type of each columns, null object\n",
        "\n",
        "for name_df, df in dfs_name.items():\n",
        "    print(name_df)\n",
        "    print(df.info())\n",
        "    print()"
      ],
      "execution_count":5,
      "outputs":[
        {
          "name":"stdout",
          "text":[
            "Actors\n",
            "<class 'pandas.core.frame.DataFrame'>\n",
            "RangeIndex: 817718 entries, 0 to 817717\n",
            "Data columns (total 4 columns):\n",
            " #   Column      Non-Null Count   Dtype \n",
            "---  ------      --------------   ----- \n",
            " 0   id          817718 non-null  int64 \n",
            " 1   first_name  817718 non-null  object\n",
            " 2   last_name   817718 non-null  object\n",
            " 3   gender      817718 non-null  object\n",
            "dtypes: int64(1), object(3)\n",
            "memory usage: 25.0+ MB\n",
            "None\n",
            "\n",
            "Directors\n",
            "<class 'pandas.core.frame.DataFrame'>\n",
            "RangeIndex: 86880 entries, 0 to 86879\n",
            "Data columns (total 3 columns):\n",
            " #   Column      Non-Null Count  Dtype \n",
            "---  ------      --------------  ----- \n",
            " 0   id          86880 non-null  int64 \n",
            " 1   first_name  86880 non-null  object\n",
            " 2   last_name   86880 non-null  object\n",
            "dtypes: int64(1), object(2)\n",
            "memory usage: 2.0+ MB\n",
            "None\n",
            "\n",
            "Directors-genres\n",
            "<class 'pandas.core.frame.DataFrame'>\n",
            "RangeIndex: 156562 entries, 0 to 156561\n",
            "Data columns (total 3 columns):\n",
            " #   Column       Non-Null Count   Dtype  \n",
            "---  ------       --------------   -----  \n",
            " 0   director_id  156562 non-null  int64  \n",
            " 1   genre        156562 non-null  object \n",
            " 2   prob         156562 non-null  float64\n",
            "dtypes: float64(1), int64(1), object(1)\n",
            "memory usage: 3.6+ MB\n",
            "None\n",
            "\n",
            "Movies\n",
            "<class 'pandas.core.frame.DataFrame'>\n",
            "RangeIndex: 388269 entries, 0 to 388268\n",
            "Data columns (total 4 columns):\n",
            " #   Column  Non-Null Count   Dtype  \n",
            "---  ------  --------------   -----  \n",
            " 0   id      388269 non-null  int64  \n",
            " 1   name    388269 non-null  object \n",
            " 2   year    388269 non-null  int64  \n",
            " 3   rank    67245 non-null   float64\n",
            "dtypes: float64(1), int64(2), object(1)\n",
            "memory usage: 11.8+ MB\n",
            "None\n",
            "\n",
            "Movies-directors\n",
            "<class 'pandas.core.frame.DataFrame'>\n",
            "RangeIndex: 371180 entries, 0 to 371179\n",
            "Data columns (total 2 columns):\n",
            " #   Column       Non-Null Count   Dtype\n",
            "---  ------       --------------   -----\n",
            " 0   director_id  371180 non-null  int64\n",
            " 1   movie_id     371180 non-null  int64\n",
            "dtypes: int64(2)\n",
            "memory usage: 5.7 MB\n",
            "None\n",
            "\n",
            "Movies-genres\n",
            "<class 'pandas.core.frame.DataFrame'>\n",
            "RangeIndex: 395119 entries, 0 to 395118\n",
            "Data columns (total 2 columns):\n",
            " #   Column    Non-Null Count   Dtype \n",
            "---  ------    --------------   ----- \n",
            " 0   movie_id  395119 non-null  int64 \n",
            " 1   genre     395119 non-null  object\n",
            "dtypes: int64(1), object(1)\n",
            "memory usage: 6.0+ MB\n",
            "None\n",
            "\n",
            "Roles\n",
            "<class 'pandas.core.frame.DataFrame'>\n",
            "RangeIndex: 3431966 entries, 0 to 3431965\n",
            "Data columns (total 3 columns):\n",
            " #   Column    Dtype \n",
            "---  ------    ----- \n",
            " 0   actor_id  int64 \n",
            " 1   movie_id  int64 \n",
            " 2   role      object\n",
            "dtypes: int64(2), object(1)\n",
            "memory usage: 78.6+ MB\n",
            "None\n",
            "\n"
          ],
          "output_type":"stream"
        }
      ],
      "metadata":{
        
      }
    },
    {
      "cell_type":"markdown",
      "source":[
        "##### Report\n",
        "\n",
        "**Correcting data types**\n",
        "\n",
        "- We inspected that **all columns are in the right type**\n",
        "- e.g. all id columns are in integer type, rank is in float type, names or genres are in object typr\n",
        "\n",
        "**Missing values**\n",
        "\n",
        "- There are massively null valus in Movies dataframe (321024)"
      ],
      "attachments":{
        
      },
      "metadata":{
        
      }
    },
    {
      "cell_type":"markdown",
      "source":[
        "#### Remove missing values\n",
        "\n",
        "- Remove on [ movies table ]"
      ],
      "attachments":{
        
      },
      "metadata":{
        
      }
    },
    {
      "cell_type":"code",
      "source":[
        "# Remove row that contains missing value\n",
        "\n",
        "droppedNull_movies = raw_movies.dropna()\n",
        "\n",
        "droppedNull_movies =  droppedNull_movies.reset_index(drop=True)\n",
        "\n",
        "# Update dictionary\n",
        "dfs_name[\"Movies\"] = droppedNull_movies\n",
        "\n",
        "droppedNull_movies.head(10)"
      ],
      "execution_count":13,
      "outputs":[
        {
          "data":{
            "text\/html":[
              "<div>\n",
              "<style scoped>\n",
              "    .dataframe tbody tr th:only-of-type {\n",
              "        vertical-align: middle;\n",
              "    }\n",
              "\n",
              "    .dataframe tbody tr th {\n",
              "        vertical-align: top;\n",
              "    }\n",
              "\n",
              "    .dataframe thead th {\n",
              "        text-align: right;\n",
              "    }\n",
              "<\/style>\n",
              "<table border=\"1\" class=\"dataframe\">\n",
              "  <thead>\n",
              "    <tr style=\"text-align: right;\">\n",
              "      <th><\/th>\n",
              "      <th>id<\/th>\n",
              "      <th>name<\/th>\n",
              "      <th>year<\/th>\n",
              "      <th>rank<\/th>\n",
              "    <\/tr>\n",
              "  <\/thead>\n",
              "  <tbody>\n",
              "    <tr>\n",
              "      <th>0<\/th>\n",
              "      <td>2<\/td>\n",
              "      <td>$<\/td>\n",
              "      <td>1971<\/td>\n",
              "      <td>6.4<\/td>\n",
              "    <\/tr>\n",
              "    <tr>\n",
              "      <th>1<\/th>\n",
              "      <td>6<\/td>\n",
              "      <td>$1,000,000 Duck<\/td>\n",
              "      <td>1971<\/td>\n",
              "      <td>5.0<\/td>\n",
              "    <\/tr>\n",
              "    <tr>\n",
              "      <th>2<\/th>\n",
              "      <td>11<\/td>\n",
              "      <td>$1000 a Touchdown<\/td>\n",
              "      <td>1939<\/td>\n",
              "      <td>6.7<\/td>\n",
              "    <\/tr>\n",
              "    <tr>\n",
              "      <th>3<\/th>\n",
              "      <td>15<\/td>\n",
              "      <td>$30<\/td>\n",
              "      <td>1999<\/td>\n",
              "      <td>7.5<\/td>\n",
              "    <\/tr>\n",
              "    <tr>\n",
              "      <th>4<\/th>\n",
              "      <td>18<\/td>\n",
              "      <td>$40,000<\/td>\n",
              "      <td>1996<\/td>\n",
              "      <td>9.6<\/td>\n",
              "    <\/tr>\n",
              "    <tr>\n",
              "      <th>5<\/th>\n",
              "      <td>24<\/td>\n",
              "      <td>$50,000 Climax Show, The<\/td>\n",
              "      <td>1975<\/td>\n",
              "      <td>2.6<\/td>\n",
              "    <\/tr>\n",
              "    <tr>\n",
              "      <th>6<\/th>\n",
              "      <td>31<\/td>\n",
              "      <td>$pent<\/td>\n",
              "      <td>2000<\/td>\n",
              "      <td>4.3<\/td>\n",
              "    <\/tr>\n",
              "    <tr>\n",
              "      <th>7<\/th>\n",
              "      <td>33<\/td>\n",
              "      <td>$windle<\/td>\n",
              "      <td>2002<\/td>\n",
              "      <td>5.4<\/td>\n",
              "    <\/tr>\n",
              "    <tr>\n",
              "      <th>8<\/th>\n",
              "      <td>36<\/td>\n",
              "      <td>'15'<\/td>\n",
              "      <td>2002<\/td>\n",
              "      <td>6.8<\/td>\n",
              "    <\/tr>\n",
              "    <tr>\n",
              "      <th>9<\/th>\n",
              "      <td>38<\/td>\n",
              "      <td>'38<\/td>\n",
              "      <td>1987<\/td>\n",
              "      <td>6.7<\/td>\n",
              "    <\/tr>\n",
              "  <\/tbody>\n",
              "<\/table>\n",
              "<\/div>"
            ]
          },
          "metadata":{
            
          },
          "output_type":"display_data"
        }
      ],
      "metadata":{
        
      }
    },
    {
      "cell_type":"code",
      "source":[
        "# check all id column of each table are unique (no duplicate id)\n",
        "\n",
        "ids_col = [\"id\", \"director_id\", \"movie_id\", \"actor_id\"]\n",
        "for name, df in dfs_name.items():\n",
        "    # find id column\n",
        "    for id_col in df.columns:\n",
        "        if id_col in ids_col:\n",
        "            print(name, \"on column\", id_col)\n",
        "            print(\"ID unique:\",df[id_col].duplicated().any())\n",
        "            print()\n",
        "            break"
      ],
      "execution_count":14,
      "outputs":[
        {
          "name":"stdout",
          "text":[
            "Actors on column id\n",
            "ID unique: False\n",
            "\n",
            "Directors on column id\n",
            "ID unique: False\n",
            "\n",
            "Directors-genres on column director_id\n",
            "ID unique: True\n",
            "\n",
            "Movies on column id\n",
            "ID unique: False\n",
            "\n",
            "Movies-directors on column director_id\n",
            "ID unique: True\n",
            "\n",
            "Movies-genres on column movie_id\n",
            "ID unique: True\n",
            "\n",
            "Roles on column actor_id\n",
            "ID unique: True\n",
            "\n"
          ],
          "output_type":"stream"
        }
      ],
      "metadata":{
        
      }
    },
    {
      "cell_type":"markdown",
      "source":[
        "#### Adjust values error\n",
        "- Check and change (if neccessary) the values whether are in the right format"
      ],
      "attachments":{
        
      },
      "metadata":{
        
      }
    },
    {
      "cell_type":"code",
      "source":[
        "# basic statistics\n",
        "# Continue to check all dataframe\n",
        "\n",
        "droppedNull_movies.describe()"
      ],
      "execution_count":15,
      "outputs":[
        {
          "data":{
            "text\/html":[
              "<div>\n",
              "<style scoped>\n",
              "    .dataframe tbody tr th:only-of-type {\n",
              "        vertical-align: middle;\n",
              "    }\n",
              "\n",
              "    .dataframe tbody tr th {\n",
              "        vertical-align: top;\n",
              "    }\n",
              "\n",
              "    .dataframe thead th {\n",
              "        text-align: right;\n",
              "    }\n",
              "<\/style>\n",
              "<table border=\"1\" class=\"dataframe\">\n",
              "  <thead>\n",
              "    <tr style=\"text-align: right;\">\n",
              "      <th><\/th>\n",
              "      <th>id<\/th>\n",
              "      <th>year<\/th>\n",
              "      <th>rank<\/th>\n",
              "    <\/tr>\n",
              "  <\/thead>\n",
              "  <tbody>\n",
              "    <tr>\n",
              "      <th>count<\/th>\n",
              "      <td>67245.000000<\/td>\n",
              "      <td>67245.000000<\/td>\n",
              "      <td>67245.000000<\/td>\n",
              "    <\/tr>\n",
              "    <tr>\n",
              "      <th>mean<\/th>\n",
              "      <td>189297.063945<\/td>\n",
              "      <td>1976.594275<\/td>\n",
              "      <td>5.874239<\/td>\n",
              "    <\/tr>\n",
              "    <tr>\n",
              "      <th>std<\/th>\n",
              "      <td>108991.555948<\/td>\n",
              "      <td>23.854135<\/td>\n",
              "      <td>1.622712<\/td>\n",
              "    <\/tr>\n",
              "    <tr>\n",
              "      <th>min<\/th>\n",
              "      <td>2.000000<\/td>\n",
              "      <td>1890.000000<\/td>\n",
              "      <td>1.000000<\/td>\n",
              "    <\/tr>\n",
              "    <tr>\n",
              "      <th>25%<\/th>\n",
              "      <td>94218.000000<\/td>\n",
              "      <td>1960.000000<\/td>\n",
              "      <td>4.900000<\/td>\n",
              "    <\/tr>\n",
              "    <tr>\n",
              "      <th>50%<\/th>\n",
              "      <td>188803.000000<\/td>\n",
              "      <td>1984.000000<\/td>\n",
              "      <td>6.000000<\/td>\n",
              "    <\/tr>\n",
              "    <tr>\n",
              "      <th>75%<\/th>\n",
              "      <td>284587.000000<\/td>\n",
              "      <td>1997.000000<\/td>\n",
              "      <td>7.000000<\/td>\n",
              "    <\/tr>\n",
              "    <tr>\n",
              "      <th>max<\/th>\n",
              "      <td>378614.000000<\/td>\n",
              "      <td>2004.000000<\/td>\n",
              "      <td>9.900000<\/td>\n",
              "    <\/tr>\n",
              "  <\/tbody>\n",
              "<\/table>\n",
              "<\/div>"
            ]
          },
          "metadata":{
            
          },
          "output_type":"display_data"
        }
      ],
      "metadata":{
        
      }
    },
    {
      "cell_type":"markdown",
      "source":[
        "##### Result\n",
        "\n",
        "**Movies dataframe**\n",
        "\n",
        "- We ignore id column (already checked id column)\n",
        "- Year initially collected since 1890 to 2004 -> (make sense)\n",
        "- Rank (rating) min is 1 through 9.9 (max) -> (make sense)"
      ],
      "attachments":{
        
      },
      "metadata":{
        
      }
    }
  ],
  "metadata":{
    
  },
  "nbformat":4,
  "nbformat_minor":0
}
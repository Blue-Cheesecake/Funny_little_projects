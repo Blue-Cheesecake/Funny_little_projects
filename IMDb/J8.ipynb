{
  "cells": [
    {
      "attachments": {},
      "cell_type": "markdown",
      "metadata": {},
      "source": [
        "# IMDb\r\n",
        "\r\n",
        "<img src=\"https://upload.wikimedia.org/wikipedia/commons/thumb/6/69/IMDB_Logo_2016.svg/640px-IMDB_Logo_2016.svg.png?1623833316814\">\r\n",
        "\r\n",
        "- IMDb (an acronym for Internet Movie Database)[1] is an online database of information related to films, television programs, home videos, video games, and streaming content online – including cast, production crew and personal biographies, plot summaries, trivia, ratings, and fan and critical reviews. An additional fan feature, message boards, was abandoned in February 2017. Originally a fan-operated website, the database is now owned and operated by IMDb.com, Inc., a subsidiary of Amazon.\r\n",
        "\r\n",
        "- As of December 2020, IMDb has approximately 7.5 million titles (including episodes) and 10.4 million personalities in its database,[2] as well as 83 million registered users.\r\n",
        "\r\n",
        "- IMDb began as a movie database on the Usenet group \"rec.arts.movies\" in 1990 and moved to the web in 1993.\r\n",
        "\r\n",
        "- Information ref: https://www.wikiwand.com/en/IMDb\r\n",
        "\r\n",
        "- Now, we're interested in what's going on and finding insight by given data from \"https://relational.fit.cvut.cz/dataset/IMDb\"\r\n",
        "\r\n",
        "## Objective\r\n",
        "- Building movies recommendation based on personal information from user. \r\n",
        "\r\n",
        "** NOTED that we haven't currently planned to build model yet **\r\n",
        "\r\n",
        "** In this project, we only prepare data for modeling **\r\n",
        "\r\n",
        "## Proceduces for this project\r\n",
        "\r\n",
        "    1 Business Understanding\r\n",
        "    2 Data Preparation\r\n",
        "        - Collecting\r\n",
        "        - Cleaning\r\n",
        "    3 Data Understanding\r\n",
        "    4 Describing Data\r\n",
        "        - EDA\r\n",
        "\r\n",
        "## Additional Libraries\r\n",
        "- pymysql\r\n",
        "- pandas_profiling"
      ]
    },
    {
      "cell_type": "code",
      "execution_count": null,
      "metadata": {},
      "outputs": [],
      "source": [
        "# ! pip install pymysql"
      ]
    },
    {
      "cell_type": "code",
      "execution_count": null,
      "metadata": {},
      "outputs": [],
      "source": [
        "# ! pip install https://github.com/pandas-profiling/pandas-profiling/archive/master.zip "
      ]
    },
    {
      "attachments": {},
      "cell_type": "markdown",
      "metadata": {},
      "source": [
        "## Entity Relational Diagram\r\n",
        "\r\n",
        "    A Diagram display the relations between databases is shown here\r\n",
        "\r\n",
        "<img src=\"https://relational.fit.cvut.cz/assets/img/datasets-generated/imdb_ijs.svg\">\r\n",
        "\r\n",
        "<img src=\"https://media1.tenor.com/images/871791f2c3b6a691428d5eb69001647e/tenor.gif?itemid=16088453\">"
      ]
    },
    {
      "attachments": {},
      "cell_type": "markdown",
      "metadata": {},
      "source": [
        "### Data Preparation section"
      ]
    },
    {
      "cell_type": "code",
      "execution_count": 1,
      "metadata": {},
      "outputs": [
        {
          "name": "stdout",
          "output_type": "stream",
          "text": [
            "{'Tables_in_imdb_ijs': 'actors'}\n",
            "{'Tables_in_imdb_ijs': 'directors'}\n",
            "{'Tables_in_imdb_ijs': 'directors_genres'}\n",
            "{'Tables_in_imdb_ijs': 'movies'}\n",
            "{'Tables_in_imdb_ijs': 'movies_directors'}\n",
            "{'Tables_in_imdb_ijs': 'movies_genres'}\n",
            "{'Tables_in_imdb_ijs': 'roles'}\n"
          ]
        }
      ],
      "source": [
        "# Inspects all all tables, are still available, from database\r\n",
        "\r\n",
        "import pymysql.cursors\r\n",
        "\r\n",
        "hostname =  \"relational.fit.cvut.cz\"\r\n",
        "port = 3306\r\n",
        "username = \"guest\"\r\n",
        "password = \"relational\"\r\n",
        "db = \"imdb_ijs\"\r\n",
        "\r\n",
        "connections = pymysql.connect(\r\n",
        "    host=hostname,\r\n",
        "    port=port,\r\n",
        "    user=username,\r\n",
        "    password=password,\r\n",
        "    db=db,\r\n",
        "    charset=\"utf8mb4\",\r\n",
        "    cursorclass=pymysql.cursors.DictCursor\r\n",
        ")\r\n",
        "\r\n",
        "cursor = connections.cursor()\r\n",
        "cursor.execute(\"show tables;\")\r\n",
        "tables = cursor.fetchall()\r\n",
        "cursor.close()\r\n",
        "\r\n",
        "for ele in tables:\r\n",
        "    print(ele)"
      ]
    },
    {
      "cell_type": "markdown",
      "metadata": {},
      "source": []
    },
    {
      "cell_type": "code",
      "execution_count": 2,
      "metadata": {},
      "outputs": [],
      "source": [
        "# Extracts tables from database to pandas dataframe\r\n",
        "\r\n",
        "import pandas as pd\r\n",
        "\r\n",
        "def extract_dataframe(table_name: str):\r\n",
        "    with connections.cursor() as cursor:\r\n",
        "        # select all from given table name without any conditions\r\n",
        "        select = \"SELECT * FROM \" + table_name\r\n",
        "        cursor.execute(select)\r\n",
        "        result = cursor.fetchall()\r\n",
        "        return pd.DataFrame(result)\r\n",
        "\r\n",
        "raw_actors = extract_dataframe(\"actors\")\r\n",
        "raw_directors = extract_dataframe(\"directors\")\r\n",
        "raw_directorsGen = extract_dataframe(\"directors_genres\")\r\n",
        "raw_movies = extract_dataframe(\"movies\")\r\n",
        "raw_moviesDirec = extract_dataframe(\"movies_directors\")\r\n",
        "raw_moviesGen = extract_dataframe(\"movies_genres\")\r\n",
        "raw_roles = extract_dataframe(\"roles\")\r\n",
        "\r\n",
        "# Assigning name\r\n",
        "dfs_name = {\r\n",
        "    \"Actors\" : raw_actors,\r\n",
        "    \"Directors\" : raw_directors,\r\n",
        "    \"Directors-genres\" : raw_directorsGen,\r\n",
        "    \"Movies\" : raw_movies,\r\n",
        "    \"Movies-directors\" : raw_moviesDirec,\r\n",
        "    \"Movies-genres\" : raw_moviesGen,\r\n",
        "    \"Roles\" : raw_roles \r\n",
        "}\r\n",
        "\r\n",
        "list_raw = [\r\n",
        "    raw_actors,\r\n",
        "    raw_directors,\r\n",
        "    raw_directorsGen,\r\n",
        "    raw_movies,\r\n",
        "    raw_moviesDirec,\r\n",
        "    raw_moviesGen,\r\n",
        "    raw_roles\r\n",
        "]"
      ]
    },
    {
      "cell_type": "code",
      "execution_count": null,
      "metadata": {},
      "outputs": [],
      "source": [
        "# Exporting raw tables\r\n",
        "\r\n",
        "# raw_actors.to_csv(\"actors.csv\")\r\n",
        "# raw_directors.to_csv(\"directors.csv\")\r\n",
        "# raw_directorsGen.to_csv(\"directors_genres.csv\")\r\n",
        "# raw_movies.to_csv(\"movies.csv\")\r\n",
        "# raw_moviesDirec.to_csv(\"movies_directors.csv\")\r\n",
        "# raw_moviesGen.to_csv(\"movies_genres.csv\")\r\n",
        "# raw_roles.to_csv(\"roles.csv\")"
      ]
    },
    {
      "cell_type": "code",
      "execution_count": null,
      "metadata": {},
      "outputs": [],
      "source": [
        "# Print the first few row of each\r\n",
        "\r\n",
        "for name_df, value in dfs_name.items():\r\n",
        "    print(name_df)\r\n",
        "    print(value.head())"
      ]
    },
    {
      "attachments": {},
      "cell_type": "markdown",
      "metadata": {},
      "source": [
        "## Data Cleaning\n",
        "    1 Validate each columns are in the right type\n",
        "    2 Remove missing values\n",
        "    3 Adjust values error (the value that makes no sense)\n",
        "    4 Remove duplicates rows\n",
        "    5 Standardize data (if possible)"
      ]
    },
    {
      "cell_type": "code",
      "execution_count": null,
      "metadata": {},
      "outputs": [],
      "source": [
        "# Looking basic information of each tables\r\n",
        "# The basic information can tell us the type of each columns, null object\r\n",
        "\r\n",
        "for name_df, df in dfs_name.items():\r\n",
        "    print(name_df)\r\n",
        "    print(df.info())"
      ]
    },
    {
      "attachments": {},
      "cell_type": "markdown",
      "metadata": {},
      "source": [
        "#### Result\r\n",
        "- We inspected that **all columns are in the right type**\r\n",
        "- e.g. all id columns are in integer type, rank is in float type, names or genres are in object typr\r\n",
        "- There are massively null valus in Movies dataframe (321024)"
      ]
    },
    {
      "cell_type": "code",
      "execution_count": null,
      "metadata": {},
      "outputs": [],
      "source": [
        "# Remove row that contains missing value\r\n",
        "\r\n",
        "droppedNull_movies = raw_movies.dropna()\r\n",
        "\r\n",
        "droppedNull_movies =  droppedNull_movies.reset_index(drop=True)\r\n",
        "\r\n",
        "dfs_name[\"Movies\"] = droppedNull_movies\r\n",
        "\r\n",
        "droppedNull_movies.head(10)"
      ]
    },
    {
      "cell_type": "code",
      "execution_count": null,
      "metadata": {},
      "outputs": [],
      "source": [
        "# check all id column of each table are unique (no duplicate id)\r\n",
        "\r\n",
        "ids_col = [\"id\", \"director_id\", \"movie_id\", \"actor_id\"]\r\n",
        "for name, df in dfs_name.items():\r\n",
        "    # find id column\r\n",
        "    for id_col in df.columns:\r\n",
        "        if id_col in ids_col:\r\n",
        "            print(name, \"on column\", id_col)\r\n",
        "            print(df[id_col].duplicated().any())\r\n",
        "            break\r\n"
      ]
    },
    {
      "cell_type": "code",
      "execution_count": null,
      "metadata": {},
      "outputs": [],
      "source": []
    },
    {
      "cell_type": "code",
      "execution_count": null,
      "metadata": {},
      "outputs": [],
      "source": [
        "# basic statistics\r\n",
        "\r\n",
        "droppedNull_movies.describe()"
      ]
    },
    {
      "cell_type": "markdown",
      "metadata": {},
      "source": [
        "### Result\r\n",
        "- We ignore id column (already checked id column)\r\n",
        "- Year initially collected since 1890 to 2004 -> (make sense)\r\n",
        "- Rank (rating) min is 1 through 9.9 (max) -> (make sense)"
      ]
    }
  ],
  "metadata": {
    "interpreter": {
      "hash": "c1f026c9a544ab7c6f31e4b3db514155a53467da853bca098bfee83df7f16c4c"
    },
    "kernelspec": {
      "display_name": "Python 3.9.5 64-bit",
      "name": "python3"
    },
    "language_info": {
      "codemirror_mode": {
        "name": "ipython",
        "version": 3
      },
      "file_extension": ".py",
      "mimetype": "text/x-python",
      "name": "python",
      "nbconvert_exporter": "python",
      "pygments_lexer": "ipython3",
      "version": "3.8.8"
    }
  },
  "nbformat": 4,
  "nbformat_minor": 0
}